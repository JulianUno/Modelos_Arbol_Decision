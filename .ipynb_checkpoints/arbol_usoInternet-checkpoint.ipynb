{
 "cells": [
  {
   "cell_type": "markdown",
   "id": "a3213647",
   "metadata": {},
   "source": [
    "## Ejemplo Sencillo del algoritmo de arbol de decision "
   ]
  },
  {
   "cell_type": "markdown",
   "id": "7f2d0d7a",
   "metadata": {},
   "source": [
    "## Se utiliza un dataset donde muestra el uso de internet segun sexo, edad y nivel de estudios"
   ]
  },
  {
   "cell_type": "code",
   "execution_count": 93,
   "id": "eeb3217c",
   "metadata": {},
   "outputs": [],
   "source": [
    "import pandas as pd"
   ]
  },
  {
   "cell_type": "markdown",
   "id": "b1176d80",
   "metadata": {},
   "source": [
    "### Cargamos Datos"
   ]
  },
  {
   "cell_type": "code",
   "execution_count": 94,
   "id": "786a5952",
   "metadata": {},
   "outputs": [],
   "source": [
    "#creamos el dataframe e importamos el csv\n",
    "df = pd.read_csv('uso_internet_ejemplo.csv')"
   ]
  },
  {
   "cell_type": "code",
   "execution_count": 95,
   "id": "888c9a3e",
   "metadata": {},
   "outputs": [
    {
     "data": {
      "text/html": [
       "<div>\n",
       "<style scoped>\n",
       "    .dataframe tbody tr th:only-of-type {\n",
       "        vertical-align: middle;\n",
       "    }\n",
       "\n",
       "    .dataframe tbody tr th {\n",
       "        vertical-align: top;\n",
       "    }\n",
       "\n",
       "    .dataframe thead th {\n",
       "        text-align: right;\n",
       "    }\n",
       "</style>\n",
       "<table border=\"1\" class=\"dataframe\">\n",
       "  <thead>\n",
       "    <tr style=\"text-align: right;\">\n",
       "      <th></th>\n",
       "      <th>Unnamed: 0</th>\n",
       "      <th>uso_internet</th>\n",
       "      <th>sexo</th>\n",
       "      <th>edad</th>\n",
       "      <th>estudios</th>\n",
       "    </tr>\n",
       "  </thead>\n",
       "  <tbody>\n",
       "    <tr>\n",
       "      <th>0</th>\n",
       "      <td>1</td>\n",
       "      <td>0</td>\n",
       "      <td>Mujer</td>\n",
       "      <td>66</td>\n",
       "      <td>Primaria</td>\n",
       "    </tr>\n",
       "    <tr>\n",
       "      <th>1</th>\n",
       "      <td>2</td>\n",
       "      <td>1</td>\n",
       "      <td>Hombre</td>\n",
       "      <td>72</td>\n",
       "      <td>Primaria</td>\n",
       "    </tr>\n",
       "    <tr>\n",
       "      <th>2</th>\n",
       "      <td>3</td>\n",
       "      <td>1</td>\n",
       "      <td>Hombre</td>\n",
       "      <td>48</td>\n",
       "      <td>Medios universitarios</td>\n",
       "    </tr>\n",
       "    <tr>\n",
       "      <th>3</th>\n",
       "      <td>4</td>\n",
       "      <td>0</td>\n",
       "      <td>Hombre</td>\n",
       "      <td>59</td>\n",
       "      <td>Superiores</td>\n",
       "    </tr>\n",
       "    <tr>\n",
       "      <th>4</th>\n",
       "      <td>5</td>\n",
       "      <td>1</td>\n",
       "      <td>Mujer</td>\n",
       "      <td>44</td>\n",
       "      <td>Superiores</td>\n",
       "    </tr>\n",
       "  </tbody>\n",
       "</table>\n",
       "</div>"
      ],
      "text/plain": [
       "   Unnamed: 0  uso_internet    sexo  edad               estudios\n",
       "0           1             0   Mujer    66               Primaria\n",
       "1           2             1  Hombre    72               Primaria\n",
       "2           3             1  Hombre    48  Medios universitarios\n",
       "3           4             0  Hombre    59             Superiores\n",
       "4           5             1   Mujer    44             Superiores"
      ]
     },
     "execution_count": 95,
     "metadata": {},
     "output_type": "execute_result"
    }
   ],
   "source": [
    "df.head()"
   ]
  },
  {
   "cell_type": "code",
   "execution_count": null,
   "id": "63edacf0",
   "metadata": {},
   "outputs": [],
   "source": []
  },
  {
   "cell_type": "code",
   "execution_count": 96,
   "id": "25a98efc",
   "metadata": {},
   "outputs": [],
   "source": [
    "# Pasamos a eliminar la columna 'Unnamed: 0'\n",
    "df = df.drop(columns = 'Unnamed: 0')"
   ]
  },
  {
   "cell_type": "code",
   "execution_count": 97,
   "id": "3adc293b",
   "metadata": {},
   "outputs": [
    {
     "data": {
      "text/html": [
       "<div>\n",
       "<style scoped>\n",
       "    .dataframe tbody tr th:only-of-type {\n",
       "        vertical-align: middle;\n",
       "    }\n",
       "\n",
       "    .dataframe tbody tr th {\n",
       "        vertical-align: top;\n",
       "    }\n",
       "\n",
       "    .dataframe thead th {\n",
       "        text-align: right;\n",
       "    }\n",
       "</style>\n",
       "<table border=\"1\" class=\"dataframe\">\n",
       "  <thead>\n",
       "    <tr style=\"text-align: right;\">\n",
       "      <th></th>\n",
       "      <th>uso_internet</th>\n",
       "      <th>sexo</th>\n",
       "      <th>edad</th>\n",
       "      <th>estudios</th>\n",
       "    </tr>\n",
       "  </thead>\n",
       "  <tbody>\n",
       "    <tr>\n",
       "      <th>0</th>\n",
       "      <td>0</td>\n",
       "      <td>Mujer</td>\n",
       "      <td>66</td>\n",
       "      <td>Primaria</td>\n",
       "    </tr>\n",
       "    <tr>\n",
       "      <th>1</th>\n",
       "      <td>1</td>\n",
       "      <td>Hombre</td>\n",
       "      <td>72</td>\n",
       "      <td>Primaria</td>\n",
       "    </tr>\n",
       "    <tr>\n",
       "      <th>2</th>\n",
       "      <td>1</td>\n",
       "      <td>Hombre</td>\n",
       "      <td>48</td>\n",
       "      <td>Medios universitarios</td>\n",
       "    </tr>\n",
       "    <tr>\n",
       "      <th>3</th>\n",
       "      <td>0</td>\n",
       "      <td>Hombre</td>\n",
       "      <td>59</td>\n",
       "      <td>Superiores</td>\n",
       "    </tr>\n",
       "    <tr>\n",
       "      <th>4</th>\n",
       "      <td>1</td>\n",
       "      <td>Mujer</td>\n",
       "      <td>44</td>\n",
       "      <td>Superiores</td>\n",
       "    </tr>\n",
       "    <tr>\n",
       "      <th>...</th>\n",
       "      <td>...</td>\n",
       "      <td>...</td>\n",
       "      <td>...</td>\n",
       "      <td>...</td>\n",
       "    </tr>\n",
       "    <tr>\n",
       "      <th>2450</th>\n",
       "      <td>1</td>\n",
       "      <td>Hombre</td>\n",
       "      <td>43</td>\n",
       "      <td>Primaria</td>\n",
       "    </tr>\n",
       "    <tr>\n",
       "      <th>2451</th>\n",
       "      <td>1</td>\n",
       "      <td>Mujer</td>\n",
       "      <td>18</td>\n",
       "      <td>Secundaria</td>\n",
       "    </tr>\n",
       "    <tr>\n",
       "      <th>2452</th>\n",
       "      <td>0</td>\n",
       "      <td>Mujer</td>\n",
       "      <td>54</td>\n",
       "      <td>Primaria</td>\n",
       "    </tr>\n",
       "    <tr>\n",
       "      <th>2453</th>\n",
       "      <td>1</td>\n",
       "      <td>Hombre</td>\n",
       "      <td>31</td>\n",
       "      <td>Secundaria</td>\n",
       "    </tr>\n",
       "    <tr>\n",
       "      <th>2454</th>\n",
       "      <td>0</td>\n",
       "      <td>Hombre</td>\n",
       "      <td>52</td>\n",
       "      <td>Primaria</td>\n",
       "    </tr>\n",
       "  </tbody>\n",
       "</table>\n",
       "<p>2455 rows × 4 columns</p>\n",
       "</div>"
      ],
      "text/plain": [
       "      uso_internet    sexo  edad               estudios\n",
       "0                0   Mujer    66               Primaria\n",
       "1                1  Hombre    72               Primaria\n",
       "2                1  Hombre    48  Medios universitarios\n",
       "3                0  Hombre    59             Superiores\n",
       "4                1   Mujer    44             Superiores\n",
       "...            ...     ...   ...                    ...\n",
       "2450             1  Hombre    43               Primaria\n",
       "2451             1   Mujer    18             Secundaria\n",
       "2452             0   Mujer    54               Primaria\n",
       "2453             1  Hombre    31             Secundaria\n",
       "2454             0  Hombre    52               Primaria\n",
       "\n",
       "[2455 rows x 4 columns]"
      ]
     },
     "execution_count": 97,
     "metadata": {},
     "output_type": "execute_result"
    }
   ],
   "source": [
    "df"
   ]
  },
  {
   "cell_type": "code",
   "execution_count": 98,
   "id": "e0499b8f",
   "metadata": {},
   "outputs": [
    {
     "data": {
      "text/html": [
       "<div>\n",
       "<style scoped>\n",
       "    .dataframe tbody tr th:only-of-type {\n",
       "        vertical-align: middle;\n",
       "    }\n",
       "\n",
       "    .dataframe tbody tr th {\n",
       "        vertical-align: top;\n",
       "    }\n",
       "\n",
       "    .dataframe thead th {\n",
       "        text-align: right;\n",
       "    }\n",
       "</style>\n",
       "<table border=\"1\" class=\"dataframe\">\n",
       "  <thead>\n",
       "    <tr style=\"text-align: right;\">\n",
       "      <th></th>\n",
       "      <th>uso_internet</th>\n",
       "      <th>edad</th>\n",
       "      <th>sexo_Mujer</th>\n",
       "      <th>estudios_Medios universitarios</th>\n",
       "      <th>estudios_Primaria</th>\n",
       "      <th>estudios_Secundaria</th>\n",
       "      <th>estudios_Sin estudios</th>\n",
       "      <th>estudios_Superiores</th>\n",
       "    </tr>\n",
       "  </thead>\n",
       "  <tbody>\n",
       "    <tr>\n",
       "      <th>0</th>\n",
       "      <td>0</td>\n",
       "      <td>66</td>\n",
       "      <td>1</td>\n",
       "      <td>0</td>\n",
       "      <td>1</td>\n",
       "      <td>0</td>\n",
       "      <td>0</td>\n",
       "      <td>0</td>\n",
       "    </tr>\n",
       "    <tr>\n",
       "      <th>1</th>\n",
       "      <td>1</td>\n",
       "      <td>72</td>\n",
       "      <td>0</td>\n",
       "      <td>0</td>\n",
       "      <td>1</td>\n",
       "      <td>0</td>\n",
       "      <td>0</td>\n",
       "      <td>0</td>\n",
       "    </tr>\n",
       "    <tr>\n",
       "      <th>2</th>\n",
       "      <td>1</td>\n",
       "      <td>48</td>\n",
       "      <td>0</td>\n",
       "      <td>1</td>\n",
       "      <td>0</td>\n",
       "      <td>0</td>\n",
       "      <td>0</td>\n",
       "      <td>0</td>\n",
       "    </tr>\n",
       "    <tr>\n",
       "      <th>3</th>\n",
       "      <td>0</td>\n",
       "      <td>59</td>\n",
       "      <td>0</td>\n",
       "      <td>0</td>\n",
       "      <td>0</td>\n",
       "      <td>0</td>\n",
       "      <td>0</td>\n",
       "      <td>1</td>\n",
       "    </tr>\n",
       "    <tr>\n",
       "      <th>4</th>\n",
       "      <td>1</td>\n",
       "      <td>44</td>\n",
       "      <td>1</td>\n",
       "      <td>0</td>\n",
       "      <td>0</td>\n",
       "      <td>0</td>\n",
       "      <td>0</td>\n",
       "      <td>1</td>\n",
       "    </tr>\n",
       "    <tr>\n",
       "      <th>...</th>\n",
       "      <td>...</td>\n",
       "      <td>...</td>\n",
       "      <td>...</td>\n",
       "      <td>...</td>\n",
       "      <td>...</td>\n",
       "      <td>...</td>\n",
       "      <td>...</td>\n",
       "      <td>...</td>\n",
       "    </tr>\n",
       "    <tr>\n",
       "      <th>2450</th>\n",
       "      <td>1</td>\n",
       "      <td>43</td>\n",
       "      <td>0</td>\n",
       "      <td>0</td>\n",
       "      <td>1</td>\n",
       "      <td>0</td>\n",
       "      <td>0</td>\n",
       "      <td>0</td>\n",
       "    </tr>\n",
       "    <tr>\n",
       "      <th>2451</th>\n",
       "      <td>1</td>\n",
       "      <td>18</td>\n",
       "      <td>1</td>\n",
       "      <td>0</td>\n",
       "      <td>0</td>\n",
       "      <td>1</td>\n",
       "      <td>0</td>\n",
       "      <td>0</td>\n",
       "    </tr>\n",
       "    <tr>\n",
       "      <th>2452</th>\n",
       "      <td>0</td>\n",
       "      <td>54</td>\n",
       "      <td>1</td>\n",
       "      <td>0</td>\n",
       "      <td>1</td>\n",
       "      <td>0</td>\n",
       "      <td>0</td>\n",
       "      <td>0</td>\n",
       "    </tr>\n",
       "    <tr>\n",
       "      <th>2453</th>\n",
       "      <td>1</td>\n",
       "      <td>31</td>\n",
       "      <td>0</td>\n",
       "      <td>0</td>\n",
       "      <td>0</td>\n",
       "      <td>1</td>\n",
       "      <td>0</td>\n",
       "      <td>0</td>\n",
       "    </tr>\n",
       "    <tr>\n",
       "      <th>2454</th>\n",
       "      <td>0</td>\n",
       "      <td>52</td>\n",
       "      <td>0</td>\n",
       "      <td>0</td>\n",
       "      <td>1</td>\n",
       "      <td>0</td>\n",
       "      <td>0</td>\n",
       "      <td>0</td>\n",
       "    </tr>\n",
       "  </tbody>\n",
       "</table>\n",
       "<p>2455 rows × 8 columns</p>\n",
       "</div>"
      ],
      "text/plain": [
       "      uso_internet  edad  sexo_Mujer  estudios_Medios universitarios  \\\n",
       "0                0    66           1                               0   \n",
       "1                1    72           0                               0   \n",
       "2                1    48           0                               1   \n",
       "3                0    59           0                               0   \n",
       "4                1    44           1                               0   \n",
       "...            ...   ...         ...                             ...   \n",
       "2450             1    43           0                               0   \n",
       "2451             1    18           1                               0   \n",
       "2452             0    54           1                               0   \n",
       "2453             1    31           0                               0   \n",
       "2454             0    52           0                               0   \n",
       "\n",
       "      estudios_Primaria  estudios_Secundaria  estudios_Sin estudios  \\\n",
       "0                     1                    0                      0   \n",
       "1                     1                    0                      0   \n",
       "2                     0                    0                      0   \n",
       "3                     0                    0                      0   \n",
       "4                     0                    0                      0   \n",
       "...                 ...                  ...                    ...   \n",
       "2450                  1                    0                      0   \n",
       "2451                  0                    1                      0   \n",
       "2452                  1                    0                      0   \n",
       "2453                  0                    1                      0   \n",
       "2454                  1                    0                      0   \n",
       "\n",
       "      estudios_Superiores  \n",
       "0                       0  \n",
       "1                       0  \n",
       "2                       0  \n",
       "3                       1  \n",
       "4                       1  \n",
       "...                   ...  \n",
       "2450                    0  \n",
       "2451                    0  \n",
       "2452                    0  \n",
       "2453                    0  \n",
       "2454                    0  \n",
       "\n",
       "[2455 rows x 8 columns]"
      ]
     },
     "execution_count": 98,
     "metadata": {},
     "output_type": "execute_result"
    }
   ],
   "source": [
    "# Convertimos las variables categoricas(strings) a binarias\n",
    "df = pd.get_dummies(data = df, drop_first = True)\n",
    "df"
   ]
  },
  {
   "cell_type": "markdown",
   "id": "3f49b44c",
   "metadata": {},
   "source": [
    "### Seleccionamos variables"
   ]
  },
  {
   "cell_type": "code",
   "execution_count": 99,
   "id": "8dff867a",
   "metadata": {},
   "outputs": [],
   "source": [
    "# Pasamos a quitar la columna 'uso de internet' y lo guardamos en X\n",
    "X = df.drop(columns = 'uso_internet')\n",
    "#guardamos la variable objetivo en y\n",
    "y = df.uso_internet"
   ]
  },
  {
   "cell_type": "markdown",
   "id": "26d6c458",
   "metadata": {},
   "source": [
    "### Entrenamos Modelo DecisionTreeClassifier()"
   ]
  },
  {
   "cell_type": "code",
   "execution_count": 100,
   "id": "23c3b1eb",
   "metadata": {},
   "outputs": [],
   "source": [
    "#Para eso necesitamos la libreria sklearn\n",
    "from sklearn.tree import DecisionTreeClassifier"
   ]
  },
  {
   "cell_type": "code",
   "execution_count": 101,
   "id": "94d3365f",
   "metadata": {},
   "outputs": [],
   "source": [
    "modelo_arbol = DecisionTreeClassifier(max_depth = 3)"
   ]
  },
  {
   "cell_type": "code",
   "execution_count": 102,
   "id": "b72d7cad",
   "metadata": {},
   "outputs": [
    {
     "data": {
      "text/plain": [
       "DecisionTreeClassifier(max_depth=3)"
      ]
     },
     "execution_count": 102,
     "metadata": {},
     "output_type": "execute_result"
    }
   ],
   "source": [
    "modelo_arbol.fit(X = X, y = y)"
   ]
  },
  {
   "cell_type": "markdown",
   "id": "ad066599",
   "metadata": {},
   "source": [
    "### Visualizacion del arbol de decision"
   ]
  },
  {
   "cell_type": "code",
   "execution_count": 103,
   "id": "55e823d0",
   "metadata": {},
   "outputs": [],
   "source": [
    "#importamos la funcion para viasualizar el arbol\n",
    "from sklearn.tree import plot_tree\n",
    "import matplotlib.pyplot as plt"
   ]
  },
  {
   "cell_type": "code",
   "execution_count": 104,
   "id": "fda9080d",
   "metadata": {},
   "outputs": [
    {
     "data": {
      "image/png": "[encoded data removed]",
      "text/plain": [
       "<Figure size 1008x576 with 1 Axes>"
      ]
     },
     "metadata": {
      "needs_background": "light"
     },
     "output_type": "display_data"
    }
   ],
   "source": [
    "plt.figure(figsize = (14, 8))\n",
    "plot_tree(decision_tree = modelo_arbol, feature_names = X.columns, filled = True, fontsize = 10);"
   ]
  },
  {
   "cell_type": "markdown",
   "id": "37410f83",
   "metadata": {},
   "source": [
    "### Calculamos Prediccion"
   ]
  },
  {
   "cell_type": "code",
   "execution_count": 105,
   "id": "ea79f78b",
   "metadata": {},
   "outputs": [],
   "source": [
    "ejemplo_prediccion = X.sample()"
   ]
  },
  {
   "cell_type": "code",
   "execution_count": 106,
   "id": "4d275860",
   "metadata": {},
   "outputs": [
    {
     "data": {
      "text/html": [
       "<div>\n",
       "<style scoped>\n",
       "    .dataframe tbody tr th:only-of-type {\n",
       "        vertical-align: middle;\n",
       "    }\n",
       "\n",
       "    .dataframe tbody tr th {\n",
       "        vertical-align: top;\n",
       "    }\n",
       "\n",
       "    .dataframe thead th {\n",
       "        text-align: right;\n",
       "    }\n",
       "</style>\n",
       "<table border=\"1\" class=\"dataframe\">\n",
       "  <thead>\n",
       "    <tr style=\"text-align: right;\">\n",
       "      <th></th>\n",
       "      <th>edad</th>\n",
       "      <th>sexo_Mujer</th>\n",
       "      <th>estudios_Medios universitarios</th>\n",
       "      <th>estudios_Primaria</th>\n",
       "      <th>estudios_Secundaria</th>\n",
       "      <th>estudios_Sin estudios</th>\n",
       "      <th>estudios_Superiores</th>\n",
       "    </tr>\n",
       "  </thead>\n",
       "  <tbody>\n",
       "    <tr>\n",
       "      <th>975</th>\n",
       "      <td>49</td>\n",
       "      <td>1</td>\n",
       "      <td>0</td>\n",
       "      <td>1</td>\n",
       "      <td>0</td>\n",
       "      <td>0</td>\n",
       "      <td>0</td>\n",
       "    </tr>\n",
       "  </tbody>\n",
       "</table>\n",
       "</div>"
      ],
      "text/plain": [
       "     edad  sexo_Mujer  estudios_Medios universitarios  estudios_Primaria  \\\n",
       "975    49           1                               0                  1   \n",
       "\n",
       "     estudios_Secundaria  estudios_Sin estudios  estudios_Superiores  \n",
       "975                    0                      0                    0  "
      ]
     },
     "execution_count": 106,
     "metadata": {},
     "output_type": "execute_result"
    }
   ],
   "source": [
    "ejemplo_prediccion"
   ]
  },
  {
   "cell_type": "code",
   "execution_count": 107,
   "id": "73007412",
   "metadata": {},
   "outputs": [
    {
     "data": {
      "text/plain": [
       "0.09628610729023383"
      ]
     },
     "execution_count": 107,
     "metadata": {},
     "output_type": "execute_result"
    }
   ],
   "source": [
    "70/727"
   ]
  },
  {
   "cell_type": "code",
   "execution_count": 108,
   "id": "a89f0bea",
   "metadata": {},
   "outputs": [
    {
     "data": {
      "text/plain": [
       "array([[0.61538462, 0.38461538]])"
      ]
     },
     "execution_count": 108,
     "metadata": {},
     "output_type": "execute_result"
    }
   ],
   "source": [
    "# Vamos a usar un poco de probabilidad\n",
    "modelo_arbol.predict_proba(ejemplo_prediccion)"
   ]
  },
  {
   "cell_type": "markdown",
   "id": "d06cbd8e",
   "metadata": {},
   "source": [
    "En la prediccion anterior vemos que el array esta compuesto por dos valores, donde:\n",
    "   1. El primer valor: 0.90371389 corresponder a la probabilidad de personas que NO usaron internet \n",
    "   2. El segundo valor: 0.09628611 corresponde a la probabilidad de personas que SI usaron internet\n",
    "Esto en base a la edad y estudios de la persona del ejemplo. En este caso una mujer de 63 años de edad con solo estudios de nivel primario"
   ]
  },
  {
   "cell_type": "code",
   "execution_count": 109,
   "id": "377e5e16",
   "metadata": {},
   "outputs": [],
   "source": [
    "#Calculo de prediciones para todas las perosnas\n",
    "y_pred = modelo_arbol.predict(X)"
   ]
  },
  {
   "cell_type": "markdown",
   "id": "d7eba161",
   "metadata": {},
   "source": [
    "### Interpretacion del Modelo "
   ]
  },
  {
   "cell_type": "markdown",
   "id": "4c17ca4e",
   "metadata": {},
   "source": [
    "¿Por que ha determinado la edad como el factor mas influyeten a la hora de decis si una persona usa internet o no?"
   ]
  },
  {
   "cell_type": "code",
   "execution_count": 110,
   "id": "16fc9c01",
   "metadata": {},
   "outputs": [
    {
     "data": {
      "image/png": "[encoded data removed]",
      "text/plain": [
       "<Figure size 432x288 with 1 Axes>"
      ]
     },
     "metadata": {
      "needs_background": "light"
     },
     "output_type": "display_data"
    }
   ],
   "source": [
    "#usaremos un histograma para responder a esta pregunta\n",
    "\n",
    "import seaborn as sns\n",
    "sns.histplot(x = df.edad, hue = df.uso_internet);"
   ]
  },
  {
   "cell_type": "markdown",
   "id": "ec0634ae",
   "metadata": {},
   "source": [
    "Entonces en esta grafica de histograma, vemos que hay diferencia enter las personas que han usado internet y las que no, aqui se ve la diferencia entre edades(jovenes y edades mayores)"
   ]
  },
  {
   "cell_type": "markdown",
   "id": "3c9681e6",
   "metadata": {},
   "source": [
    "### ¿Como de bueno es el modelo?"
   ]
  },
  {
   "cell_type": "code",
   "execution_count": 111,
   "id": "510f3dd7",
   "metadata": {},
   "outputs": [],
   "source": [
    "df['pred'] = y_pred"
   ]
  },
  {
   "cell_type": "code",
   "execution_count": 112,
   "id": "a1ee2fc2",
   "metadata": {},
   "outputs": [
    {
     "data": {
      "text/html": [
       "<div>\n",
       "<style scoped>\n",
       "    .dataframe tbody tr th:only-of-type {\n",
       "        vertical-align: middle;\n",
       "    }\n",
       "\n",
       "    .dataframe tbody tr th {\n",
       "        vertical-align: top;\n",
       "    }\n",
       "\n",
       "    .dataframe thead th {\n",
       "        text-align: right;\n",
       "    }\n",
       "</style>\n",
       "<table border=\"1\" class=\"dataframe\">\n",
       "  <thead>\n",
       "    <tr style=\"text-align: right;\">\n",
       "      <th></th>\n",
       "      <th>uso_internet</th>\n",
       "      <th>pred</th>\n",
       "    </tr>\n",
       "  </thead>\n",
       "  <tbody>\n",
       "    <tr>\n",
       "      <th>2413</th>\n",
       "      <td>0</td>\n",
       "      <td>0</td>\n",
       "    </tr>\n",
       "    <tr>\n",
       "      <th>329</th>\n",
       "      <td>0</td>\n",
       "      <td>1</td>\n",
       "    </tr>\n",
       "    <tr>\n",
       "      <th>1581</th>\n",
       "      <td>1</td>\n",
       "      <td>0</td>\n",
       "    </tr>\n",
       "    <tr>\n",
       "      <th>444</th>\n",
       "      <td>1</td>\n",
       "      <td>1</td>\n",
       "    </tr>\n",
       "    <tr>\n",
       "      <th>1431</th>\n",
       "      <td>1</td>\n",
       "      <td>1</td>\n",
       "    </tr>\n",
       "    <tr>\n",
       "      <th>2118</th>\n",
       "      <td>1</td>\n",
       "      <td>1</td>\n",
       "    </tr>\n",
       "    <tr>\n",
       "      <th>2257</th>\n",
       "      <td>1</td>\n",
       "      <td>1</td>\n",
       "    </tr>\n",
       "    <tr>\n",
       "      <th>890</th>\n",
       "      <td>0</td>\n",
       "      <td>1</td>\n",
       "    </tr>\n",
       "    <tr>\n",
       "      <th>1054</th>\n",
       "      <td>1</td>\n",
       "      <td>0</td>\n",
       "    </tr>\n",
       "    <tr>\n",
       "      <th>1804</th>\n",
       "      <td>1</td>\n",
       "      <td>0</td>\n",
       "    </tr>\n",
       "    <tr>\n",
       "      <th>568</th>\n",
       "      <td>1</td>\n",
       "      <td>1</td>\n",
       "    </tr>\n",
       "    <tr>\n",
       "      <th>2329</th>\n",
       "      <td>1</td>\n",
       "      <td>0</td>\n",
       "    </tr>\n",
       "    <tr>\n",
       "      <th>399</th>\n",
       "      <td>1</td>\n",
       "      <td>0</td>\n",
       "    </tr>\n",
       "    <tr>\n",
       "      <th>2362</th>\n",
       "      <td>1</td>\n",
       "      <td>1</td>\n",
       "    </tr>\n",
       "    <tr>\n",
       "      <th>622</th>\n",
       "      <td>0</td>\n",
       "      <td>0</td>\n",
       "    </tr>\n",
       "    <tr>\n",
       "      <th>1743</th>\n",
       "      <td>0</td>\n",
       "      <td>1</td>\n",
       "    </tr>\n",
       "    <tr>\n",
       "      <th>1229</th>\n",
       "      <td>1</td>\n",
       "      <td>1</td>\n",
       "    </tr>\n",
       "    <tr>\n",
       "      <th>2064</th>\n",
       "      <td>0</td>\n",
       "      <td>0</td>\n",
       "    </tr>\n",
       "    <tr>\n",
       "      <th>467</th>\n",
       "      <td>1</td>\n",
       "      <td>1</td>\n",
       "    </tr>\n",
       "    <tr>\n",
       "      <th>1493</th>\n",
       "      <td>1</td>\n",
       "      <td>1</td>\n",
       "    </tr>\n",
       "  </tbody>\n",
       "</table>\n",
       "</div>"
      ],
      "text/plain": [
       "      uso_internet  pred\n",
       "2413             0     0\n",
       "329              0     1\n",
       "1581             1     0\n",
       "444              1     1\n",
       "1431             1     1\n",
       "2118             1     1\n",
       "2257             1     1\n",
       "890              0     1\n",
       "1054             1     0\n",
       "1804             1     0\n",
       "568              1     1\n",
       "2329             1     0\n",
       "399              1     0\n",
       "2362             1     1\n",
       "622              0     0\n",
       "1743             0     1\n",
       "1229             1     1\n",
       "2064             0     0\n",
       "467              1     1\n",
       "1493             1     1"
      ]
     },
     "execution_count": 112,
     "metadata": {},
     "output_type": "execute_result"
    }
   ],
   "source": [
    "df.sample(20)[['uso_internet', 'pred']]"
   ]
  },
  {
   "cell_type": "markdown",
   "id": "4493f56f",
   "metadata": {},
   "source": [
    "Vemos que hay algunos fallos en la prediccion, entonces procederemos a ver que tanto error tenemos en el modelo a continuacion"
   ]
  },
  {
   "cell_type": "code",
   "execution_count": 113,
   "id": "489f152f",
   "metadata": {},
   "outputs": [
    {
     "data": {
      "text/plain": [
       "1975"
      ]
     },
     "execution_count": 113,
     "metadata": {},
     "output_type": "execute_result"
    }
   ],
   "source": [
    "#Se muestra la suma de aciertos ente la variable objetivo y la prediccion\n",
    "# True. = 1, y False = 0 \n",
    "(df['uso_internet'] == df['pred']).sum()"
   ]
  },
  {
   "cell_type": "code",
   "execution_count": 115,
   "id": "937a2cf1",
   "metadata": {},
   "outputs": [
    {
     "data": {
      "text/plain": [
       "0.8044806517311609"
      ]
     },
     "execution_count": 115,
     "metadata": {},
     "output_type": "execute_result"
    }
   ],
   "source": [
    "#porcentaje de aciertos\n",
    "#la cantiad de personas: 2455\n",
    "(df['uso_internet'] == df['pred']).sum()/ 2455"
   ]
  },
  {
   "cell_type": "markdown",
   "id": "9c60512f",
   "metadata": {},
   "source": [
    "Finalmente vemos que el modelo tiene un porcentaje de acierto de 80% aproximadamente"
   ]
  },
  {
   "cell_type": "code",
   "execution_count": null,
   "id": "a8f23043",
   "metadata": {},
   "outputs": [],
   "source": []
  }
 ],
 "metadata": {
  "kernelspec": {
   "display_name": "Python 3",
   "language": "python",
   "name": "python3"
  },
  "language_info": {
   "codemirror_mode": {
    "name": "ipython",
    "version": 3
   },
   "file_extension": ".py",
   "mimetype": "text/x-python",
   "name": "python",
   "nbconvert_exporter": "python",
   "pygments_lexer": "ipython3",
   "version": "3.8.8"
  }
 },
 "nbformat": 4,
 "nbformat_minor": 5
}
